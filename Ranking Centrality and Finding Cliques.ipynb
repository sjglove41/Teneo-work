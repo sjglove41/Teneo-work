{
 "cells": [
  {
   "cell_type": "code",
   "execution_count": null,
   "metadata": {},
   "outputs": [],
   "source": [
    "#This notebook inputs an already created network and creates easily digestible tables ranking centrality of the nodes. It also finds the largest cliques of the network using the built-in \"enumerate_all_cliques\" function.\n",
    "from __future__ import unicode_literals\n",
    "import time\n",
    "import tweepy\n",
    "import os\n",
    "import os.path\n",
    "import pandas as pd\n",
    "import csv\n",
    "import networkx as nx\n",
    "import matplotlib.pyplot as plt\n",
    "%matplotlib inline\n",
    "import collections\n",
    "from scipy.optimize import curve_fit\n",
    "import numpy as np\n",
    "\n",
    "ckey='aULojNkJve0mTEr2aTwYKCt3g'\n",
    "c_secret='TqYI59ruZgxiyLj4SB5Xtslf9jbcGd5Xif6GUeBk5kVW33uSzi'\n",
    "atoken='713904872568045569-cUqEJaoQy2fYgg4bdQ98ME1HmujoC84'\n",
    "atokensecret='swuXr6SD7u2EGNM6DMZoSz5zcvnmvnBgxv4xDSVKlYg86'\n",
    "auth = tweepy.OAuthHandler(ckey, c_secret)\n",
    "auth.set_access_token(atoken, atokensecret)\n",
    "\n",
    "api = tweepy.API(auth,wait_on_rate_limit=True,wait_on_rate_limit_notify=True)"
   ]
  },
  {
   "cell_type": "code",
   "execution_count": null,
   "metadata": {
    "scrolled": true
   },
   "outputs": [],
   "source": [
    "#Reads a graphml file that has already been created.\n",
    "G=nx.read_graphml(\"graphml_file_path\")"
   ]
  },
  {
   "cell_type": "code",
   "execution_count": null,
   "metadata": {},
   "outputs": [],
   "source": [
    "from operator import itemgetter\n",
    "sorted_dict=sorted(nx.eigenvector_centrality(G).items(), key=itemgetter(1), reverse= True)\n",
    "from operator import itemgetter\n",
    "sorted_dict1=sorted(nx.degree_centrality(G).items(), key=itemgetter(1), reverse= True)"
   ]
  },
  {
   "cell_type": "code",
   "execution_count": null,
   "metadata": {},
   "outputs": [],
   "source": [
    "id_list=[]\n",
    "i=0\n",
    "while i < len(sorted_dict): \n",
    "    id_list.append(sorted_dict[i][0])\n",
    "    i+=1\n",
    "\n",
    "id_list1=[]\n",
    "i=0\n",
    "while i < len(sorted_dict1): \n",
    "    id_list1.append(sorted_dict1[i][0])\n",
    "    i+=1\n",
    "print(id_list1)\n",
    "\n",
    "rating_list=[]\n",
    "i=0\n",
    "while i < len(sorted_dict): \n",
    "    rating_list.append(sorted_dict[i][1])\n",
    "    i+=1\n",
    "    \n",
    "rating_list1=[]\n",
    "i=0\n",
    "while i < len(sorted_dict1): \n",
    "    rating_list1.append(sorted_dict1[i][1])\n",
    "    i+=1"
   ]
  },
  {
   "cell_type": "code",
   "execution_count": null,
   "metadata": {},
   "outputs": [],
   "source": [
    "def id_to_username(id_list):\n",
    "    usernames=[]\n",
    "    for i in id_list:\n",
    "        u=api.get_user(i)\n",
    "        usernames.append(u.screen_name)\n",
    "    return usernames"
   ]
  },
  {
   "cell_type": "code",
   "execution_count": null,
   "metadata": {},
   "outputs": [],
   "source": [
    "#Removes the apostrophes from the ID numbers so that their corresponding screen names can be found.\n",
    "new_id_list = [int(x.strip(\"'\")) for x in id_list]\n",
    "new_id_list1 = [int(x.strip(\"'\")) for x in id_list1]"
   ]
  },
  {
   "cell_type": "code",
   "execution_count": null,
   "metadata": {},
   "outputs": [],
   "source": [
    "screen_names=id_to_username(new_id_list)\n",
    "    \n",
    "screen_names1=id_to_username(new_id_list1)"
   ]
  },
  {
   "cell_type": "code",
   "execution_count": null,
   "metadata": {},
   "outputs": [],
   "source": [
    "#Creates a dataframe containing each handle and its corresponding centrality, eigenvector and degree.\n",
    "df = pd.DataFrame(columns=['screen_names1','rating_list1','screen_names','rating_list'])\n",
    "d = {'Name':screen_names,'Transmission':rating_list,'Name1':screen_names1,'Connectedness':rating_list1}\n",
    "df=pd.DataFrame(d)\n",
    "print(df)"
   ]
  },
  {
   "cell_type": "code",
   "execution_count": null,
   "metadata": {},
   "outputs": [],
   "source": [
    "#Exports the dataframe to an Excel file.\n",
    "writer = pd.ExcelWriter('file_path')\n",
    "df.to_excel(writer,'file_name')\n",
    "writer.save()"
   ]
  },
  {
   "cell_type": "code",
   "execution_count": null,
   "metadata": {},
   "outputs": [],
   "source": [
    "#Finds the maximal clique of the network. Since finding the maximal clique is an NP-complete problem, this approach uses brute force and therefore may be time-consuming.\n",
    "cliques=list(nx.enumerate_all_cliques(G))[-1:]\n",
    "clique_list = [int(x.strip(\"'\")) for y in cliques for x in y]\n",
    "clique_names=id_to_username(clique_list)\n",
    "print(clique_names)"
   ]
  }
 ],
 "metadata": {
  "kernelspec": {
   "display_name": "Python 3",
   "language": "python",
   "name": "python3"
  },
  "language_info": {
   "codemirror_mode": {
    "name": "ipython",
    "version": 3
   },
   "file_extension": ".py",
   "mimetype": "text/x-python",
   "name": "python",
   "nbconvert_exporter": "python",
   "pygments_lexer": "ipython3",
   "version": "3.6.5"
  }
 },
 "nbformat": 4,
 "nbformat_minor": 2
}
