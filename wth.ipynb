{
 "cells": [
  {
   "cell_type": "code",
   "execution_count": 34,
   "metadata": {},
   "outputs": [],
   "source": [
    "from __future__ import unicode_literals\n",
    "import time\n",
    "import tweepy\n",
    "import os\n",
    "import os.path\n",
    "import pandas as pd\n",
    "import csv\n",
    "import networkx as nx\n",
    "import matplotlib.pyplot as plt\n",
    "import collections\n",
    "\n",
    "ckey='ruFHMzXN6rimxkKzd9FtwD4QJ'\n",
    "c_secret='4YaYRcKp7U0mXAeUXAQMd8kRjbSCPpSKTatPK7hZFIquJ7hP01'\n",
    "atoken='983706800309653504-056QBrRGtjrRIDdy6iYk3d5XdePB4eL'\n",
    "atokensecret='13ra5wBqqHCDQfsfD8NqsyYmbmgeXkiOT6eZThs3eK0mh'\n",
    "auth = tweepy.OAuthHandler(ckey, c_secret)\n",
    "auth.set_access_token(atoken, atokensecret)\n",
    "\n",
    "api = tweepy.API(auth,wait_on_rate_limit=True,wait_on_rate_limit_notify=True)"
   ]
  },
  {
   "cell_type": "code",
   "execution_count": 35,
   "metadata": {},
   "outputs": [],
   "source": [
    "def find_followers(twit_handle,current_depth=0, max_depth=1):\n",
    "    twit_id= api.get_user(screen_name = \"twit_handle\")\n",
    "    ids = []\n",
    "    fname = 'twit_id' + '.csv'\n",
    "    if os.path.isfile(fname):\n",
    "        #print(\"This file exists\")\n",
    "        with open(fname) as f:\n",
    "            reader = csv.reader(f)\n",
    "            l = list(reader)\n",
    "        ids = [item for sublist in l for item in sublist]\n",
    "    else:\n",
    "        for page in tweepy.Cursor(api.friends_ids, screen_name=twit_handle).pages():\n",
    "            ids.extend(page)\n",
    "        df = pd.DataFrame(ids)\n",
    "        df.to_csv(fname, sep=',', header=None, index=None)\n",
    "        \n",
    "    #find friends of friends \n",
    "    #cd=current_depth\n",
    "    #if (cd +1) < max_depth:\n",
    "        #for fid in ids:\n",
    "            #find_followers(fid, current_depth=cd+1, max_depth=max_depth)\n",
    "      \n",
    "    return ids"
   ]
  },
  {
   "cell_type": "code",
   "execution_count": 36,
   "metadata": {},
   "outputs": [],
   "source": [
    "screen_name= 'ajitpaifcc'\n",
    "user= api.get_user(screen_name = \"%s\" % screen_name)\n",
    "follow_list = find_followers(\"%s\" % screen_name)\n",
    "screen_name2= 'jrosenworcel'\n",
    "user2= api.get_user(screen_name = \"%s\" % screen_name2)\n",
    "follow_list2= find_followers(\"%s\" % screen_name2)\n",
    "screen_name3= 'mikeofcc'\n",
    "user3= api.get_user(screen_name = \"%s\" % screen_name3)\n",
    "follow_list3= find_followers(\"%s\" % screen_name3)\n",
    "screen_name4= 'demonbarber41'\n",
    "user4= api.get_user(screen_name = \"%s\" % screen_name4)\n",
    "follow_list4= find_followers(\"%s\" % screen_name4)"
   ]
  },
  {
   "cell_type": "code",
   "execution_count": 37,
   "metadata": {},
   "outputs": [],
   "source": [
    "G = nx.Graph()\n",
    "for f in follow_list:\n",
    "    G.add_edge(user, f, weight=.1)\n",
    "for h in follow_list2:\n",
    "    G.add_edge(user2, h,weight=.1)\n",
    "for i in follow_list3:\n",
    "    G.add_edge(user3, i,weight=.1)\n",
    "for j in follow_list4:\n",
    "    G.add_edge(user4, j,weight=.1)"
   ]
  },
  {
   "cell_type": "code",
   "execution_count": 38,
   "metadata": {},
   "outputs": [
    {
     "data": {
      "image/png": "[encoded data removed]",
      "text/plain": [
       "<Figure size 432x288 with 1 Axes>"
      ]
     },
     "metadata": {},
     "output_type": "display_data"
    }
   ],
   "source": [
    "def color_graph(graph):\n",
    "    color_map=[]\n",
    "    node_list = list(graph.nodes)\n",
    "    for i in range(0,len(node_list)):\n",
    "        if graph.degree(node_list[i]) == 1:\n",
    "            color_map.append('lightslategrey')\n",
    "        elif graph.degree(node_list[i])==2:\n",
    "            color_map.append('aliceblue')\n",
    "        elif graph.degree(node_list[i])==3:\n",
    "            color_map.append('dodgerblue')\n",
    "        elif graph.degree(node_list[i])==4:\n",
    "            color_map.append('lightsteelblue')\n",
    "        else:\n",
    "            color_map.append('cornflowerblue')\n",
    "    nx.draw(graph,node_color=color_map)\n",
    "    plt.show()\n",
    "color_graph(G)"
   ]
  },
  {
   "cell_type": "code",
   "execution_count": 39,
   "metadata": {},
   "outputs": [
    {
     "name": "stdout",
     "output_type": "stream",
     "text": [
      "(3910, 4) (4, 3910)\n"
     ]
    }
   ],
   "source": [
    "degree_sequence = sorted([d for n, d in G.degree()], reverse=True)\n",
    "degreeCount = collections.Counter(degree_sequence)\n",
    "deg, cnt = zip(*degreeCount.items())\n",
    "print(deg,cnt)"
   ]
  },
  {
   "cell_type": "code",
   "execution_count": 40,
   "metadata": {},
   "outputs": [
    {
     "data": {
      "text/plain": [
       "Text(0.5,0,'Degree')"
      ]
     },
     "execution_count": 40,
     "metadata": {},
     "output_type": "execute_result"
    },
    {
     "data": {
      "image/png": "[encoded data removed]",
      "text/plain": [
       "<Figure size 432x288 with 1 Axes>"
      ]
     },
     "metadata": {},
     "output_type": "display_data"
    }
   ],
   "source": [
    "fig, ax = plt.subplots()\n",
    "plt.plot(nx.degree_histogram(G)[1:10])\n",
    "\n",
    "plt.title(\"Degree Histogram\")\n",
    "plt.ylabel(\"Count\")\n",
    "plt.xlabel(\"Degree\")"
   ]
  },
  {
   "cell_type": "code",
   "execution_count": null,
   "metadata": {},
   "outputs": [],
   "source": []
  }
 ],
 "metadata": {
  "kernelspec": {
   "display_name": "Python 3",
   "language": "python",
   "name": "python3"
  },
  "language_info": {
   "codemirror_mode": {
    "name": "ipython",
    "version": 3
   },
   "file_extension": ".py",
   "mimetype": "text/x-python",
   "name": "python",
   "nbconvert_exporter": "python",
   "pygments_lexer": "ipython3",
   "version": "3.6.5"
  }
 },
 "nbformat": 4,
 "nbformat_minor": 2
}
